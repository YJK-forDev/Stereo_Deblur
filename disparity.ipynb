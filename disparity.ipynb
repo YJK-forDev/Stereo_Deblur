{
 "cells": [
  {
   "cell_type": "code",
   "execution_count": 36,
   "metadata": {},
   "outputs": [
    {
     "name": "stderr",
     "output_type": "stream",
     "text": [
      "[ WARN:0@14149.715] global /io/opencv/modules/imgcodecs/src/loadsave.cpp (239) findDecoder imread_('/home/cvmlserver/Seohyeon/DAVANet/1.png'): can't open/read file: check file path/integrity\n",
      "[ WARN:0@14149.715] global /io/opencv/modules/imgcodecs/src/loadsave.cpp (239) findDecoder imread_('/home/cvmlserver/Seohyeon/DAVANet/2.png'): can't open/read file: check file path/integrity\n"
     ]
    },
    {
     "ename": "error",
     "evalue": "OpenCV(4.6.0) /io/opencv/modules/calib3d/src/stereobm.cpp:1190: error: (-211:One of the arguments' values is out of range) SADWindowSize must be odd, be within 5..255 and be not larger than image width or height in function 'compute'\n",
     "output_type": "error",
     "traceback": [
      "\u001b[0;31m---------------------------------------------------------------------------\u001b[0m",
      "\u001b[0;31merror\u001b[0m                                     Traceback (most recent call last)",
      "Cell \u001b[0;32mIn [36], line 16\u001b[0m\n\u001b[1;32m     10\u001b[0m     \u001b[39m# imgL = cv2.imread('/home/cvmlserver/Seohyeon/DAVANet/input/Test/image_right_blur_ga/00'+str(i)+'.png',0)\u001b[39;00m\n\u001b[1;32m     11\u001b[0m     \u001b[39m# imgR = cv2.imread('/home/cvmlserver/Seohyeon/DAVANet/input/Test/image_right/001.png',0)\u001b[39;00m\n\u001b[1;32m     12\u001b[0m \n\u001b[1;32m     13\u001b[0m     \u001b[39m# stereo = cv2.StereoBM(1, 16, 15) \u001b[39;00m\n\u001b[1;32m     14\u001b[0m     \u001b[39m# stereo = cv2.createStereoBM(numDisparities=16, blockSize=15)\u001b[39;00m\n\u001b[1;32m     15\u001b[0m     stereo \u001b[39m=\u001b[39m cv2\u001b[39m.\u001b[39mStereoBM_create(numDisparities \u001b[39m=\u001b[39m \u001b[39m16\u001b[39m, blockSize \u001b[39m=\u001b[39m \u001b[39m15\u001b[39m)\n\u001b[0;32m---> 16\u001b[0m     disparity \u001b[39m=\u001b[39m stereo\u001b[39m.\u001b[39;49mcompute(imgL, imgR)\n\u001b[1;32m     17\u001b[0m     \u001b[39m# cv2.imwrite('00'+str(i)+'.exr', cv2.imgtogray(disparity))\u001b[39;00m\n\u001b[1;32m     19\u001b[0m plt\u001b[39m.\u001b[39mimshow(disparity,\u001b[39m'\u001b[39m\u001b[39mgray\u001b[39m\u001b[39m'\u001b[39m)\n",
      "\u001b[0;31merror\u001b[0m: OpenCV(4.6.0) /io/opencv/modules/calib3d/src/stereobm.cpp:1190: error: (-211:One of the arguments' values is out of range) SADWindowSize must be odd, be within 5..255 and be not larger than image width or height in function 'compute'\n"
     ]
    }
   ],
   "source": [
    "import numpy as np\n",
    "import cv2\n",
    "from matplotlib import pyplot as plt\n",
    "import os\n",
    "\n",
    "for i in range(1,2):\n",
    "    imgL = cv2.imread('/home/cvmlserver/Seohyeon/DAVANet/1.png',0)\n",
    "    imgR = cv2.imread('/home/cvmlserver/Seohyeon/DAVANet/2.png',0)\n",
    "\n",
    "    # imgL = cv2.imread('/home/cvmlserver/Seohyeon/DAVANet/input/Test/image_right_blur_ga/00'+str(i)+'.png',0)\n",
    "    # imgR = cv2.imread('/home/cvmlserver/Seohyeon/DAVANet/input/Test/image_right/001.png',0)\n",
    "\n",
    "    # stereo = cv2.StereoBM(1, 16, 15) \n",
    "    # stereo = cv2.createStereoBM(numDisparities=16, blockSize=15)\n",
    "    stereo = cv2.StereoBM_create(numDisparities = 16, blockSize = 15)\n",
    "    disparity = stereo.compute(imgL, imgR)\n",
    "    # cv2.imwrite('00'+str(i)+'.exr', cv2.imgtogray(disparity))\n",
    "\n",
    "plt.imshow(disparity,'gray')\n",
    "plt.show()"
   ]
  },
  {
   "cell_type": "code",
   "execution_count": null,
   "metadata": {},
   "outputs": [
    {
     "name": "stdout",
     "output_type": "stream",
     "text": [
      "['1666313493648_10x10.png', '1666313493648_20x20.png', '1666313493648_50x50.png', '1666313498715_10x10.png', '1666313498715_20x20.png', '1666313498715_50x50.png', '1666313501515_10x10.png', '1666313501515_20x20.png', '1666313501515_50x50.png', '1666313528981_10x10.png', '1666313528981_20x20.png', '1666313528981_50x50.png', '1666313529648_10x10.png', '1666313529648_20x20.png', '1666313529648_50x50.png']\n",
      "['1666313493648_10x10.png', '1666313493648_20x20.png', '1666313493648_50x50.png', '1666313498715_10x10.png', '1666313498715_20x20.png', '1666313498715_50x50.png', '1666313501515_10x10.png', '1666313501515_20x20.png', '1666313501515_50x50.png', '1666313528981_10x10.png', '1666313528981_20x20.png', '1666313528981_50x50.png', '1666313529648_10x10.png', '1666313529648_20x20.png', '1666313529648_50x50.png']\n"
     ]
    }
   ],
   "source": [
    "path = '/home/cvmlserver/Seohyeon/DAVANet/input/Test/'\n",
    "left_list = sorted(os.listdir(path + '/image_left/'))\n",
    "right_list = sorted(os.listdir(path + '/image_right/'))\n",
    "length = len(right_list)\n",
    "print(right_list)\n",
    "print(left_list)\n",
    "for i in range(length):\n",
    "    # os.rename(path+'/image_left_blur_ga/'+ left_list[i], path+'/image_left_blur_ga/'+left_list[i].split('_')[0]+'_'+left_list[i].split('_')[-1],)\n",
    "    # os.rename(path+'/image_right_blur_ga/'+right_list[i], path+'/image_right_blur_ga/'+right_list[i].split('_')[0]+'_'+right_list[i].split('_')[-1],)\n",
    "     \n",
    "    # stereo = cv2.StereoBM(1, 16, 15) \n",
    "    # stereo = cv2.createStereoBM(numDisparities=16, blockSize=15)\n",
    "    if i % 3 == 0:\n",
    "        imgL = cv2.imread(path+'/image_left/'+left_list[i],0)\n",
    "        imgR = cv2.imread(path+'/image_right/'+right_list[i],0)\n",
    "        stereo = cv2.StereoBM_create(numDisparities = 16, blockSize = 15)\n",
    "        disparity = stereo.compute(imgL, imgR)\n",
    "                        \n",
    "        cv2.imwrite(path+'/disparity/'+right_list[i], disparity)\n",
    "    # cv2.imwrite(path+'/disparity_right/'+right_list[i], disparity)\n",
    "# plt.imshow(disparity,'gray')\n",
    "# plt.show()"
   ]
  },
  {
   "cell_type": "code",
   "execution_count": 37,
   "metadata": {},
   "outputs": [
    {
     "name": "stdout",
     "output_type": "stream",
     "text": [
      "['001.png', '002.png', '003.png']\n",
      "['001.png', '002.png', '003.png']\n"
     ]
    }
   ],
   "source": [
    "path = '/home/cvmlserver/Seohyeon/DAVANet/input/Test/'\n",
    "left_list = sorted(os.listdir(path + '/image_left_blur_ga/'))\n",
    "right_list = sorted(os.listdir(path + '/image_right_blur_ga/'))\n",
    "length = len(right_list)\n",
    "print(right_list)\n",
    "print(left_list)\n",
    "for i in range(length):\n",
    "    # os.rename(path+'/image_left_blur_ga/'+ left_list[i], path+'/image_left_blur_ga/'+left_list[i].split('_')[0]+'_'+left_list[i].split('_')[-1],)\n",
    "    # os.rename(path+'/image_right_blur_ga/'+right_list[i], path+'/image_right_blur_ga/'+right_list[i].split('_')[0]+'_'+right_list[i].split('_')[-1],)\n",
    "     \n",
    "    # stereo = cv2.StereoBM(1, 16, 15) \n",
    "    # stereo = cv2.createStereoBM(numDisparities=16, blockSize=15)\n",
    "\n",
    "    imgL = cv2.imread(path+'/image_left_blur_ga/'+left_list[i],0)\n",
    "    imgR = cv2.imread(path+'/image_right_blur_ga/'+right_list[i],0)\n",
    "    stereo = cv2.StereoBM_create(numDisparities = 16, blockSize = 15)\n",
    "    disparity = stereo.compute(imgL, imgR)\n",
    "                    \n",
    "    cv2.imwrite(path+'/befor/'+right_list[i], disparity)\n",
    "    # cv2.imwrite(path+'/disparity_right/'+right_list[i], disparity)\n",
    "# plt.imshow(disparity,'gray')\n",
    "# plt.show()"
   ]
  },
  {
   "cell_type": "code",
   "execution_count": null,
   "metadata": {},
   "outputs": [],
   "source": [
    "pathL = '/home/cvmlserver/Seohyeon/DAVANet/input/Test/image_left_blur_ga/'\n",
    "pathR = '/home/cvmlserver/Seohyeon/DAVANet/input/Test/image_right_blur_ga/'\n",
    "filelist = os.listdir('/home/cvmlserver/Seohyeon/DAVANet/input/Test/image_right_blur_ga/')\n",
    "\n",
    "for i in range(len(filelist)):\n",
    "    \n",
    "    # imgL = cv2.imread('/home/cvmlserver/Seohyeon/DAVANet/input/Test/image_right_blur_ga/00'+str(i)+'.png',0)\n",
    "    # imgR = cv2.imread('/home/cvmlserver/Seohyeon/DAVANet/input/Test/image_right/001.png',0)\n",
    "\n",
    "    # stereo = cv2.StereoBM(1, 16, 15) \n",
    "    # stereo = cv2.createStereoBM(numDisparities=16, blockSize=15)\n",
    "    # stereo = cv2.StereoBM_create(numDisparities = 16, blockSize = 15)\n",
    "    # disparity = stereo.compute(imgL, imgR)\n",
    "    cv2.imwrite('00'+str(i)+'.exr', disparity)\n",
    "\n",
    "plt.imshow(disparity,'gray')\n",
    "plt.show()\n"
   ]
  },
  {
   "cell_type": "code",
   "execution_count": null,
   "metadata": {},
   "outputs": [],
   "source": [
    "\n",
    "for i in range(1,2):\n",
    "    imgL = cv2.imread('/home/cvmlserver/Seohyeon/DAVANet/1.png',0)\n",
    "    imgR = cv2.imread('/home/cvmlserver/Seohyeon/DAVANet/2.png',0)\n",
    "\n",
    "    # imgL = cv2.imread('/home/cvmlserver/Seohyeon/DAVANet/input/Test/image_right_blur_ga/00'+str(i)+'.png',0)\n",
    "    # imgR = cv2.imread('/home/cvmlserver/Seohyeon/DAVANet/input/Test/image_right/001.png',0)\n",
    "    \n",
    "    # stereo = cv2.StereoBM(1, 16, 15) \n",
    "    # stereo = cv2.createStereoBM(numDisparities=16, blockSize=15)\n",
    "    stereo = cv2.StereoBM_create(numDisparities = 16, blockSize = 15)\n",
    "    disparity = stereo.compute(imgL, imgR)\n",
    "    # cv2.imwrite('00'+str(i)+'.exr', cv2.imgtogray(disparity))\n",
    "\n",
    "plt.imshow(disparity,'gray')\n",
    "plt.show()\n",
    "\n",
    "os.listdir(path)"
   ]
  }
 ],
 "metadata": {
  "kernelspec": {
   "display_name": "Python 3.10.6 ('11775-hw2')",
   "language": "python",
   "name": "python3"
  },
  "language_info": {
   "codemirror_mode": {
    "name": "ipython",
    "version": 3
   },
   "file_extension": ".py",
   "mimetype": "text/x-python",
   "name": "python",
   "nbconvert_exporter": "python",
   "pygments_lexer": "ipython3",
   "version": "3.10.6"
  },
  "orig_nbformat": 4,
  "vscode": {
   "interpreter": {
    "hash": "09f94152c9560a9262e19909104123c27996423b8d9cefbf1cc31600487b030b"
   }
  }
 },
 "nbformat": 4,
 "nbformat_minor": 2
}
